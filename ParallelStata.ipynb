{
 "cells": [
  {
   "cell_type": "code",
   "execution_count": null,
   "metadata": {},
   "outputs": [],
   "source": [
    "import os\n",
    "import joblib"
   ]
  },
  {
   "cell_type": "code",
   "execution_count": null,
   "metadata": {},
   "outputs": [],
   "source": [
    "def run_stata(file):\n",
    "    \n",
    "    ######################################################################\n",
    "    # Authors: Jeppe Druedahl, Anders Munk-Nielsen, and                  #\n",
    "    #          and Adam Sheridan (afmsheridan@gmail.com)                 #\n",
    "    # Date: 05/02/2020                                                   #\n",
    "    # Description:                                                       #\n",
    "    # Function to run a Stata .do file in batch mode                     #\n",
    "    # NOTE: Assumes user has Stata 16 installed in C:\\Program Files      #\n",
    "    ######################################################################\n",
    "    \n",
    "    stataexe = '\"C:\\Program Files\\Stata16\\StataMP-64.exe\"'\n",
    "    os.system(f'{stataexe} /UseRegistryStartin /e {os.getcwd()}/{file}.do')\n"
   ]
  },
  {
   "cell_type": "code",
   "execution_count": null,
   "metadata": {},
   "outputs": [],
   "source": [
    "# List of Stata .do files that the user wants to run (NOTE: Must be located in cwd.)\n",
    "dofiles = ['dofile1', 'dofile2', 'dofile3']\n",
    "nrdofiles = len(dofiles)"
   ]
  },
  {
   "cell_type": "code",
   "execution_count": null,
   "metadata": {},
   "outputs": [],
   "source": [
    "def run_parallel(files, n_jobs = nrdofiles):\n",
    "    \n",
    "    ######################################################################\n",
    "    # Authors: Jeppe Druedahl, Anders Munk-Nielsen, and                  #\n",
    "    #          and Adam Sheridan (afmsheridan@gmail.com)                 #\n",
    "    # Date: 05/02/2020                                                   #\n",
    "    # Description:                                                       #\n",
    "    # Function to run multiple Stata .do files in parallel               #\n",
    "    # NOTE: User should set n_jobs <= nrdofiles, depending on computer   #\n",
    "    #       resources and number of .do files                            #\n",
    "    ######################################################################\n",
    "    \n",
    "    tasks = (joblib.delayed(run_stata)(file) for file in files)\n",
    "    results = joblib.Parallel(n_jobs = n_jobs)(tasks)\n"
   ]
  },
  {
   "cell_type": "code",
   "execution_count": null,
   "metadata": {},
   "outputs": [],
   "source": [
    "# Code to execute functions\n",
    "run_parallel(dofiles)"
   ]
  }
 ],
 "metadata": {
  "kernelspec": {
   "display_name": "Python 3",
   "language": "python",
   "name": "python3"
  },
  "language_info": {
   "codemirror_mode": {
    "name": "ipython",
    "version": 3
   },
   "file_extension": ".py",
   "mimetype": "text/x-python",
   "name": "python",
   "nbconvert_exporter": "python",
   "pygments_lexer": "ipython3",
   "version": "3.7.3"
  }
 },
 "nbformat": 4,
 "nbformat_minor": 2
}
